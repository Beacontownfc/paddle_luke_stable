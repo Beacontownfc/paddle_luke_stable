{
 "cells": [
  {
   "cell_type": "markdown",
   "id": "5f63b7c2-cba2-46ec-a4c5-1234c7d60169",
   "metadata": {
    "execution": {
     "iopub.execute_input": "2022-01-23T10:15:56.040443Z",
     "iopub.status.busy": "2022-01-23T10:15:56.040172Z",
     "iopub.status.idle": "2022-01-23T10:17:20.778091Z",
     "shell.execute_reply": "2022-01-23T10:17:20.777232Z",
     "shell.execute_reply.started": "2022-01-23T10:15:56.040356Z"
    }
   },
   "source": [
    "**在运行之前需要安装必要的运行库**"
   ]
  },
  {
   "cell_type": "code",
   "execution_count": null,
   "id": "a2e25ee8-8065-4720-ab31-977564c022d4",
   "metadata": {
    "scrolled": true
   },
   "outputs": [],
   "source": [
    "!pip install wikipedia2vec==1.0.5\r\n",
    "!pip install regex"
   ]
  },
  {
   "cell_type": "markdown",
   "id": "0e491b23-3e56-47cf-b2be-1e46f0ba15fe",
   "metadata": {},
   "source": [
    "**从checkpoint中快速验证**"
   ]
  },
  {
   "cell_type": "code",
   "execution_count": null,
   "id": "1f526749-ad52-4a72-b667-c06fd7ccc756",
   "metadata": {
    "execution": {
     "iopub.execute_input": "2022-01-23T12:45:31.870625Z",
     "iopub.status.busy": "2022-01-23T12:45:31.869573Z"
    },
    "scrolled": true
   },
   "outputs": [],
   "source": [
    "!python main.py --do_eval=1 --data_dir=data/ --output_dir=/home/aistudio/data/data126114/ --checkpoint_file=paddle_luke_openEntity.pt --pretrain_model=/home/aistudio/data/data123707/paddle_luke.pt"
   ]
  },
  {
   "cell_type": "markdown",
   "id": "a9603f79-66fa-4c19-bf47-942cef9be109",
   "metadata": {},
   "source": [
    "**运行以下两行命令，训练并测试F1**"
   ]
  },
  {
   "cell_type": "code",
   "execution_count": null,
   "id": "92e0c087-73c1-4d5f-96fe-32c1cf710673",
   "metadata": {
    "scrolled": true
   },
   "outputs": [],
   "source": [
    "!python main.py --do_train=1 --data_dir=data/ --output_dir=output/ --checkpoint_file=paddle_luke_openEntity.pt --pretrain_model=/home/aistudio/data/data123707/paddle_luke.pt"
   ]
  },
  {
   "cell_type": "code",
   "execution_count": null,
   "id": "67762046-ebfb-48db-96ca-bdf33051e0c7",
   "metadata": {
    "scrolled": true
   },
   "outputs": [],
   "source": [
    "!python main.py --do_eval=1 --data_dir=data/ --output_dir=output/ --checkpoint_file=paddle_luke_openEntity.pt --pretrain_model=/home/aistudio/data/data123707/paddle_luke.pt"
   ]
  }
 ],
 "metadata": {
  "kernelspec": {
   "display_name": "Python 3",
   "language": "python",
   "name": "py35-paddle1.2.0"
  },
  "language_info": {
   "codemirror_mode": {
    "name": "ipython",
    "version": 3
   },
   "file_extension": ".py",
   "mimetype": "text/x-python",
   "name": "python",
   "nbconvert_exporter": "python",
   "pygments_lexer": "ipython3",
   "version": "3.7.4"
  }
 },
 "nbformat": 4,
 "nbformat_minor": 5
}
